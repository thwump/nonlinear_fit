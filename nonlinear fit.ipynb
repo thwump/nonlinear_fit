{
 "cells": [
  {
   "cell_type": "markdown",
   "metadata": {},
   "source": [
    "## ENPH 353 Lecture 2 - An introduction to modeling and non-linear curve fitting"
   ]
  },
  {
   "cell_type": "markdown",
   "metadata": {},
   "source": [
    "Version 1.1 August 21 2018, Rob Knobel"
   ]
  },
  {
   "cell_type": "markdown",
   "metadata": {},
   "source": [
    "## Names: ______________________  and ______________ and _____________ and _____________"
   ]
  },
  {
   "cell_type": "markdown",
   "metadata": {},
   "source": [
    "This python notebook contains skeleton code of how to do a non-linear curve fit using standard python packages (matplotlib, scipy.optimize).  You can re-use this code later in the term if it is helpful.  At the end of the class period, you will upload a pdf printout of this workbook for grading.  Details are below."
   ]
  },
  {
   "cell_type": "markdown",
   "metadata": {},
   "source": [
    "The first few cells load in the required packages for python.  To evaluate each cell, select it with your mouse then click **shift-enter**."
   ]
  },
  {
   "cell_type": "code",
   "execution_count": null,
   "metadata": {
    "collapsed": true
   },
   "outputs": [],
   "source": [
    "# Brings in the numpy package, giving numerical functions to python.  All calls to functions in the package are prefaced by np.\n",
    "import numpy as np"
   ]
  },
  {
   "cell_type": "code",
   "execution_count": null,
   "metadata": {
    "collapsed": false
   },
   "outputs": [],
   "source": [
    "# Brings in the matplotlib graphics package.  All calls to it prefaced by plt.\n",
    "import matplotlib as plt\n",
    " #  This makes the plots from matplotlib appear in the notebook.\n",
    "%matplotlib inline"
   ]
  },
  {
   "cell_type": "code",
   "execution_count": null,
   "metadata": {
    "collapsed": true
   },
   "outputs": [],
   "source": [
    "# More importing of the curve_fit package and pylab has plotting tools.\n",
    "from scipy.optimize import curve_fit\n",
    "from pylab import *"
   ]
  },
  {
   "cell_type": "markdown",
   "metadata": {},
   "source": [
    "Next, load the data from the text file.  The data is stored as time (in milliseconds), signal (in volts) and uncertainty in the signal (in volts)."
   ]
  },
  {
   "cell_type": "code",
   "execution_count": null,
   "metadata": {
    "collapsed": true
   },
   "outputs": [],
   "source": [
    "data = np.genfromtxt('curve fit exercise.csv',delimiter=',', skip_header=1)"
   ]
  },
  {
   "cell_type": "code",
   "execution_count": null,
   "metadata": {
    "collapsed": false
   },
   "outputs": [],
   "source": [
    "print(data)"
   ]
  },
  {
   "cell_type": "code",
   "execution_count": null,
   "metadata": {
    "collapsed": true
   },
   "outputs": [],
   "source": [
    "# Break up the multi-dimensional data into three vectors for time, signal and uncertainty.\n",
    "time = data[:,0]\n",
    "signal = data[:,1]\n",
    "uncertainty = data[:,2]"
   ]
  },
  {
   "cell_type": "markdown",
   "metadata": {},
   "source": [
    "We can plot using the matplotlib package for python.  Using the tips available at, for instance, https://matplotlib.org/examples/showcase/anatomy.html"
   ]
  },
  {
   "cell_type": "code",
   "execution_count": null,
   "metadata": {
    "collapsed": false
   },
   "outputs": [],
   "source": [
    "fig, ax = plt.subplots(figsize=(8, 8))   #  A sigle plot 8cm square\n",
    "ax.set_title('Test data for fitting')    #  Plot title\n",
    "ax.set_ylabel('Signal (V)')              #  y-axis label\n",
    "ax.set_xlabel('Time (ms)')               #  x-axis label \n",
    "ax.errorbar(time,signal,uncertainty,fmt='o',color='r')   # errorbar plot with circle symbols in red\n",
    "plt.show()                               #  Show the plot below"
   ]
  },
  {
   "cell_type": "markdown",
   "metadata": {},
   "source": [
    "The data will be fit to the function\n",
    "\n",
    "$d(t) = A(1+B \\cos \\omega t) e^{-t^2/2\\tau^2} +C$\n",
    "\n",
    "where the fitting parameters are $A$, $B$, $C$, $\\omega$ and $\\tau$.  The next cell defines the fitting function."
   ]
  },
  {
   "cell_type": "code",
   "execution_count": null,
   "metadata": {
    "collapsed": true
   },
   "outputs": [],
   "source": [
    "# define the fitting function\n",
    "def fit_func(t,a,b,c,omega,tau):\n",
    "    return a*(1+b*np.cos(omega*t))*np.exp(-t**2.0/(2.0*tau**2.0))+c\n",
    "# count the number of times we run the fit\n",
    "iteration = 1"
   ]
  },
  {
   "cell_type": "markdown",
   "metadata": {},
   "source": [
    "## Exercise:\n",
    "Estimate starting parameters for the fit (given in the **start** array below) that give a good fit. Rather than replacing the numbers, please copy the next cell over each time you change the fit.  \n",
    "\n",
    "It is best to understand how the fitting function behaves, and have initial guesses that are somewhat close to the correct values.  Feel free to use cells in the notebook to compute this.\n",
    "\n",
    "How can you tell if the fit is \"good\"?  How good is it?"
   ]
  },
  {
   "cell_type": "code",
   "execution_count": null,
   "metadata": {
    "collapsed": false
   },
   "outputs": [],
   "source": [
    "# Starting parameter values:  A, B, C, omega, tau\n",
    "#  THIS IS WHAT WE'LL CHANGE TO START THE FIT AT A DIFFERENT POINT\n",
    "start = np.array([1.0, 1.0, 1.0, 1.0, 1.0])\n",
    "\n",
    "\n",
    "# Perform the fit\n",
    "popt,pcov=curve_fit(fit_func,time,signal,p0=start,sigma=uncertainty,absolute_sigma=True)\n",
    "\n",
    "#Plot the data and fit\n",
    "fig, (ax1, ax2) = plt.subplots(nrows=1, ncols=2,figsize=(8, 4))\n",
    "\n",
    "ax1.errorbar(time,signal,uncertainty,fmt='o')\n",
    "x = np.linspace(0,40,1000)\n",
    "ax1.plot(x,fit_func(x,popt[0],popt[1],popt[2],popt[3],popt[4]),'r')\n",
    "title = 'Test fit number ' + str(iteration)\n",
    "ax1.set_title(title)\n",
    "ax1.set_xlabel('Time (ms)')\n",
    "ax1.set_ylabel('Signal (V)')\n",
    "\n",
    "# Plot the residuals\n",
    "\n",
    "ax2.errorbar(time,signal-fit_func(time,popt[0],popt[1],popt[2],popt[3],popt[4]),uncertainty,fmt='o')\n",
    "title = 'Residuals for fit number ' + str(iteration)\n",
    "ax2.set_title(title)\n",
    "ax2.set_xlabel('Time (ms)')\n",
    "ax2.set_ylabel('Signal difference (V)')\n",
    "plt.subplots_adjust(wspace=0.35)\n",
    "\n",
    "# Show the equation\n",
    "text = r'$d(t) = A(1 + B \\cos \\omega t) e^{-\\frac{t^2}{2 \\tau^2}} + C$'\n",
    "ax = plt.gca()\n",
    "ax.text(1.2,0.5,text,transform=ax.transAxes,fontsize=16)\n",
    "\n",
    "plt.show()\n",
    "iteration = iteration + 1\n",
    "\n",
    "# Print out the coefficients and the 1-sigma uncertainty on the coefficients.  The uncertainty on each coefficient is\n",
    "#    given by the square root of the diagonal of the covariance matrix pcov.\n",
    "\n",
    "coefficient_err = np.sqrt(np.diag(pcov))\n",
    "coefficients = popt\n",
    "print(\"Start A =\\t\", start[0],\"\\t\\t, Final A =\\t\",coefficients[0],\" +/- \",coefficient_err[0])\n",
    "print(\"Start B =\\t\", start[1],\"\\t\\t, Final B =\\t\",coefficients[1],\" +/- \",coefficient_err[1])\n",
    "print(\"Start C =\\t\", start[2],\"\\t\\t, Final C =\\t\",coefficients[2],\" +/- \",coefficient_err[2])\n",
    "print(\"Start omega =\\t\",start[3],\"\\t\\t, Final omega =\\t\",coefficients[3],\" +/- \",coefficient_err[3])\n",
    "print(\"Start tau =\\t\",start[4], \"\\t\\t, Final tau =\\t\",coefficients[4],\" +/- \",coefficient_err[4])\n",
    "\n",
    "# Calculate the Chi-squared goodness of fit statistic, and the reduced chi squared statistic.\n",
    "fitted = fit_func(time, *popt)\n",
    "residuals = signal - fitted\n",
    "chisq = np.sum((residuals/uncertainty)**2)\n",
    "degree_freedom = len(time) - len(popt)\n",
    "print(\"\\n chisq =\",chisq,\"\\t df =\",degree_freedom,\"\\t\\t reduced chisq = \",chisq/degree_freedom)"
   ]
  },
  {
   "cell_type": "code",
   "execution_count": null,
   "metadata": {
    "collapsed": true
   },
   "outputs": [],
   "source": [
    "COPY THE PREVIOUS CELL HERE AND VARY THE STARTING PARAMETERS."
   ]
  },
  {
   "cell_type": "markdown",
   "metadata": {},
   "source": [
    "### Answer the following questions and do the following exercises (if time permits):\n",
    "* What is the smallest value of $\\chi^2$ you obtained?\n",
    "* Are the quoted uncertainties in the parameters smallest for this fit?  If the uncertainties aren't the smallest for this fit, what does that mean?\n",
    "* In a later cell there is a function which looks at the quality of the fit while changing one parameter. We fix all the parameters to the best fit values **except** $\\omega$ and do a loop with $\\omega$ varying from .05 to 3.95.  Plot $\\chi^2$ as a function of $\\omega$.  Describe the fit.  Where is the best fit value?  Describe what is happening in the minimum around 1.4."
   ]
  },
  {
   "cell_type": "code",
   "execution_count": null,
   "metadata": {
    "collapsed": false
   },
   "outputs": [],
   "source": [
    "# Take the previously fit parameters but vary the frequency omega.\n",
    "best = popt\n",
    "omega_range = np.linspace(.05, 3.95, num=179)\n",
    "\n",
    "# Loop over the omega_range values\n",
    "chi_range = []\n",
    "\n",
    "\n",
    "for om in omega_range:\n",
    "    popt[3]=om\n",
    "    fitted = fit_func(time, *popt)\n",
    "    residuals = signal - fitted               # Calculate the residuals for best fit with varying omega\n",
    "    chisq = np.sum((residuals/uncertainty)**2)  # Calculate Chi squared for that fit\n",
    "    degree_freedom = len(time) - len(popt)\n",
    "#    print(\"Omega =\", om,\"\\t chisq =\",chisq,\"\\t df =\",degree_freedom,\"\\t\\t reduced chisq = \",chisq/degree_freedom)\n",
    "    chi_range=np.append(chi_range, chisq/degree_freedom)    # Build an array of the reduced Chi squared for each omega\n",
    "\n",
    "#Plot the reduced chi squared vs. omega    \n",
    "fig, ax = plt.subplots(figsize=(8, 8))\n",
    "ax.set_title('Quality of Fit')\n",
    "ax.set_ylabel('Reduced Chi Squared')\n",
    "ax.set_xlabel('Omega (rad/s)')\n",
    "ax.plot(omega_range,chi_range)\n",
    "plt.show()"
   ]
  }
 ],
 "metadata": {
  "anaconda-cloud": {},
  "kernelspec": {
   "display_name": "Python [default]",
   "language": "python",
   "name": "python3"
  },
  "language_info": {
   "codemirror_mode": {
    "name": "ipython",
    "version": 3
   },
   "file_extension": ".py",
   "mimetype": "text/x-python",
   "name": "python",
   "nbconvert_exporter": "python",
   "pygments_lexer": "ipython3",
   "version": "3.5.2"
  }
 },
 "nbformat": 4,
 "nbformat_minor": 2
}
